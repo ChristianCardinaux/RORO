{
 "cells": [
  {
   "cell_type": "markdown",
   "metadata": {},
   "source": [
    "# Requirements\n",
    "\n",
    "## main chute\n",
    "\n",
    "Descent speed $ v < 9.14 m/s $ (or $ v < 30ft/s $)\n",
    "\n",
    "\n",
    "## drogue chute\n",
    "\n",
    "Descent speed $ 22.86 m/s - 45.72 m/s $ (or $ 75 ft/s - 150 ft/s $)\n",
    "\n"
   ]
  },
  {
   "cell_type": "markdown",
   "metadata": {},
   "source": [
    "\n",
    "# Drag\n",
    "\n",
    "Drag equation\n",
    "$$\n",
    "F_D = \\frac{1}{2} \\rho v^2 C_D A\n",
    "$$\n",
    "\n",
    "- $F_D$ drag force\n",
    "- $\\rho$ mass density of fluid\n",
    "- $v$ velocity\n",
    "- $A$ reference area\n",
    "- $C_D$ drag coefficient\n",
    "\n",
    "Descent velocity\n",
    "$$\n",
    "v = \\sqrt{\\frac{2 m g}{\\rho_{air} C_D A}}\n",
    "$$"
   ]
  },
  {
   "cell_type": "code",
   "execution_count": 1,
   "metadata": {
    "collapsed": true
   },
   "outputs": [],
   "source": [
    "import math\n",
    "\n",
    "rho=1.2;\n",
    "g=9.81;\n",
    "\n",
    "def v_descent(m, cd, d):\n",
    "    A = d**2*math.pi/4\n",
    "    return math.sqrt(2*m*g/(rho*cd*A))"
   ]
  },
  {
   "cell_type": "markdown",
   "metadata": {},
   "source": [
    "# Main chute\n",
    "IFC-84: Iris Ultra 84 inch Standard Parachute (from fruitychutes.com)\n",
    "\n",
    "- Cd: 2.20\n",
    "- Diameter: 2.13m\n",
    "- Type: Toroidal (Annular)\n",
    "- Packing Volume: d=100mm, l=224mm, V=1.75l (assumes a very tight pack)\n",
    "- Weight 0.54 kg\n",
    "- Material: Nylon\n",
    "- Number of Gores: 12"
   ]
  },
  {
   "cell_type": "code",
   "execution_count": 2,
   "metadata": {
    "collapsed": false
   },
   "outputs": [
    {
     "name": "stdout",
     "output_type": "stream",
     "text": [
      "20kg: 6.46 m/s\n",
      "16kg: 5.78 m/s (without 4kg payload)\n"
     ]
    }
   ],
   "source": [
    "cd = 2.2; # drag coefficient\n",
    "d = 2.13; # diameter [m]\n",
    "v1 = v_descent(20, cd, d)\n",
    "v2 = v_descent(16, cd, d)\n",
    "print('20kg: {:.2f} m/s'.format(v1))\n",
    "print('16kg: {:.2f} m/s (without 4kg payload)'.format(v2))"
   ]
  },
  {
   "cell_type": "markdown",
   "metadata": {},
   "source": [
    "# Drogue\n",
    "CFC-18: 18 inch Elliptical Parachute (from fruitychutes.com)\n",
    "\n",
    "- Cd between 1.5 - 1.6\n",
    "- Diameter: 0.46m\n",
    "- Weight: 49 grams\n",
    "- Materials: 1.1oz Rip-stop, 220lb nylon shroud lines, 1000lb swivel\n",
    "- Number of Gores: 8\n",
    "- Packing Volume: d=48mm, l=84mm, V=0.15l (assumes a very tight pack)"
   ]
  },
  {
   "cell_type": "code",
   "execution_count": 3,
   "metadata": {
    "collapsed": false
   },
   "outputs": [
    {
     "name": "stdout",
     "output_type": "stream",
     "text": [
      "20kg: 35.07 m/s\n",
      "16kg: 31.37 m/s\n"
     ]
    }
   ],
   "source": [
    "cd = 1.6; # drag coefficient\n",
    "d = 0.46; # diameter [m]\n",
    "v1 = v_descent(20, cd, d)\n",
    "v2 = v_descent(16, cd, d)\n",
    "print('20kg: {:.2f} m/s'.format(v1))\n",
    "print('16kg: {:.2f} m/s'.format(v2))"
   ]
  }
 ],
 "metadata": {
  "kernelspec": {
   "display_name": "Python 3",
   "language": "python",
   "name": "python3"
  },
  "language_info": {
   "codemirror_mode": {
    "name": "ipython",
    "version": 3
   },
   "file_extension": ".py",
   "mimetype": "text/x-python",
   "name": "python",
   "nbconvert_exporter": "python",
   "pygments_lexer": "ipython3",
   "version": "3.6.0"
  }
 },
 "nbformat": 4,
 "nbformat_minor": 2
}
